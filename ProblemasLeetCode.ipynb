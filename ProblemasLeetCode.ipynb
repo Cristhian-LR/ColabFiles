{
  "nbformat": 4,
  "nbformat_minor": 0,
  "metadata": {
    "colab": {
      "provenance": [],
      "authorship_tag": "ABX9TyO4fXFWb5CNoLua2d7p4AuP",
      "include_colab_link": true
    },
    "kernelspec": {
      "name": "python3",
      "display_name": "Python 3"
    },
    "language_info": {
      "name": "python"
    }
  },
  "cells": [
    {
      "cell_type": "markdown",
      "metadata": {
        "id": "view-in-github",
        "colab_type": "text"
      },
      "source": [
        "<a href=\"https://colab.research.google.com/github/Cristhian-LR/ColabFiles/blob/main/ProblemasLeetCode.ipynb\" target=\"_parent\"><img src=\"https://colab.research.google.com/assets/colab-badge.svg\" alt=\"Open In Colab\"/></a>"
      ]
    },
    {
      "cell_type": "markdown",
      "source": [
        "# **GenerateParenthesis**"
      ],
      "metadata": {
        "id": "FF5I4SRSxP6C"
      }
    },
    {
      "cell_type": "code",
      "execution_count": null,
      "metadata": {
        "colab": {
          "base_uri": "https://localhost:8080/"
        },
        "id": "4_ZivXrgvkKE",
        "outputId": "36e13ac6-7ea3-406d-8bca-f8a56eb297e8"
      },
      "outputs": [
        {
          "output_type": "stream",
          "name": "stdout",
          "text": [
            "['((()))', '(()())', '(())()', '()(())', '()()()']\n",
            "['()()()', '()(())', '(())()', '(()())', '((()))']\n"
          ]
        }
      ],
      "source": [
        "class Solution:\n",
        "    def generateParenthesis(self, n: int) -> list[str]:\n",
        "        # Lista donde almacenaremos todas las combinaciones válidas\n",
        "        resultado = []\n",
        "\n",
        "        # Función auxiliar (backtracking) para construir combinaciones válidas\n",
        "        def backtrack(izq: int, der: int, combinacion: str):\n",
        "            # Caso base: si la combinación ya tiene 2*n caracteres, es válida y completa\n",
        "            if len(combinacion) == 2 * n:\n",
        "                resultado.append(combinacion)  # Guardamos la combinación\n",
        "                return\n",
        "\n",
        "            # Si aún podemos agregar un paréntesis de apertura '('\n",
        "            if izq < n:\n",
        "                # Llamamos recursivamente agregando '(' y aumentando el contador de aperturas\n",
        "                backtrack(izq + 1, der, combinacion + '(')\n",
        "\n",
        "            # Si podemos agregar un paréntesis de cierre ')', sin exceder aperturas\n",
        "            if der < izq:\n",
        "                # Llamamos recursivamente agregando ')' y aumentando el contador de cierres\n",
        "                backtrack(izq, der + 1, combinacion + ')')\n",
        "\n",
        "        # Llamada inicial: 0 aperturas, 0 cierres, y cadena vacía\n",
        "        backtrack(0, 0, '')\n",
        "\n",
        "        # Devolvemos todas las combinaciones generadas\n",
        "        return resultado\n",
        "\n",
        "soluc = Solution()\n",
        "# Ejemplo de uso\n",
        "print(soluc.generateParenthesis(3))  # Debería devolver ['((()))', '(()())', '(())()', '()(())', '()()()']\n",
        "# Utiliza backtracking para construir combinaciones válidas de paréntesis.\n",
        "#su cmplejidad es O(4^n / sqrt(n)), donde n es el número de pares de paréntesis.\n",
        "# y su complejidad espacial es O(n) debido a la profundidad de la recursión.\n",
        "\n",
        "# Otra solución utilizando programación dinámica y memoización\n",
        "from functools import lru_cache\n",
        "\n",
        "class Solution2:\n",
        "    def generateParenthesis(self, n: int) -> list[str]:\n",
        "        # Usamos cache para evitar recomputar subproblemas repetidos\n",
        "        @lru_cache(None)\n",
        "        def generar(n):\n",
        "            # Caso base: 1 par de paréntesis\n",
        "            if n == 0:\n",
        "                return [\"\"]\n",
        "\n",
        "            combinaciones = []\n",
        "\n",
        "            # Dividimos los paréntesis en dos grupos: \"izquierda\" y \"derecha\"\n",
        "            for i in range(n):\n",
        "                for izquierda in generar(i):            # Parte izquierda del paréntesis\n",
        "                    for derecha in generar(n - 1 - i):  # Parte derecha del paréntesis\n",
        "                        combinaciones.append(f\"({izquierda}){derecha}\")\n",
        "\n",
        "            return combinaciones\n",
        "\n",
        "        return generar(n)\n",
        "\n",
        "sol2 = Solution2()\n",
        "print(sol2.generateParenthesis(3))  # Debería imprimir combinaciones válidas de paréntesis para n=3\n",
        "# Utiliza programación dinámica y memoización para generar combinaciones válidas de paréntesis.\n",
        "# Su complejidad es O(4^n / sqrt(n)), similar a la solución de backtracking.\n",
        "#y su complejidad espacial es O(n) debido a la profundidad de la recursión.\n",
        "# Ambas soluciones son eficientes y generan todas las combinaciones válidas de paréntesis."
      ]
    },
    {
      "cell_type": "markdown",
      "source": [
        "# **IsValid**"
      ],
      "metadata": {
        "id": "1w1PIzgbxV2C"
      }
    },
    {
      "cell_type": "code",
      "source": [
        "class Solution:\n",
        "    def isValid(self, s: str) -> bool:\n",
        "        # Diccionario que mapea cada paréntesis de cierre con su correspondiente de apertura\n",
        "        par = {')': '(', '}': '{', ']': '['}\n",
        "\n",
        "        stack = []  # Usamos una pila para seguir el orden de apertura y cierre\n",
        "\n",
        "        # Recorremos cada carácter en la cadena\n",
        "        for char in s:\n",
        "            if char in par.values():\n",
        "                # Si es un paréntesis de apertura, lo agregamos a la pila\n",
        "                stack.append(char)\n",
        "            elif char in par:\n",
        "                # Si es un paréntesis de cierre, la pila debe tener elementos y el tope debe coincidir\n",
        "                if not stack or stack[-1] != par[char]:\n",
        "                    return False  # Paréntesis inválido\n",
        "                stack.pop()  # Si coincide, sacamos el último abierto\n",
        "            else:\n",
        "                # Si el carácter no es paréntesis válido (según restricciones)\n",
        "                return False\n",
        "\n",
        "        # Si la pila está vacía, todos los paréntesis se cerraron correctamente\n",
        "        return len(stack) == 0\n",
        "\n",
        "# Ejemplo de uso\n",
        "solu = Solution()\n",
        "print(solu.isValid(\"()\"))  # Debería devolver True\n",
        "print(solu.isValid(\"()[]{}\"))  # Debería devolver True\n",
        "print(solu.isValid(\"(]\"))  # Debería devolver False\n",
        "print(solu.isValid(\"([)]\"))  # Debería devolver False\n",
        "print(solu.isValid(\"{[]}\"))  # Debería devolver True\n",
        "\n",
        "#su complejidad temporal es O(n) en el peor de los casos, donde n es la longitud de la cadena de entrada.\n",
        "#Esto se debe a que recorremos cada carácter de la cadena una vez y realizamos operaciones de inserción y eliminación en la pila, que son O(1).\n",
        "#y su complejidad espacial es O(n) en el peor de los casos, ya que en el caso más extremo,\n",
        "#  todos los caracteres de la cadena podrían ser paréntesis de apertura, lo que llevaría a almacenar n elementos en la pila.\n",
        "\n",
        "class Solution2:\n",
        "    # Método que determina si una cadena de paréntesis es válida\n",
        "    def isValid(self, s: str) -> bool:\n",
        "        # Diccionario que asocia los paréntesis de cierre con su correspondiente de apertura\n",
        "        par = {')': '(', '}': '{', ']': '['}\n",
        "\n",
        "        # Pila para almacenar los paréntesis de apertura\n",
        "        stack = []\n",
        "\n",
        "        # Recorremos cada carácter de la cadena de entrada\n",
        "        for char in s:\n",
        "            # Si el carácter es un paréntesis de apertura (valor del diccionario)\n",
        "            if char in par.values():\n",
        "                # Lo agregamos a la pila\n",
        "                stack.append(char)\n",
        "            # Si el carácter es un paréntesis de cierre (clave del diccionario)\n",
        "            elif char in par:\n",
        "                # Verificamos si la pila está vacía o el último paréntesis no coincide\n",
        "                if not stack or stack[-1] != par[char]:\n",
        "                    return False  # La secuencia es inválida\n",
        "                # Si coincide, eliminamos el último paréntesis de apertura\n",
        "                stack.pop()\n",
        "            else:\n",
        "                # Si el carácter no es un paréntesis válido (según el diccionario)\n",
        "                return False\n",
        "\n",
        "        # Al final, la pila debe estar vacía si todos los paréntesis fueron cerrados correctamente\n",
        "        return len(stack) == 0\n",
        "\n",
        "\n",
        "# Ejemplo de uso\n",
        "solu2 = Solution2()\n",
        "print(solu2.isValid(\"()\"))  # Debería devolver True\n",
        "print(solu2.isValid(\"()[]{}\"))  # Debería devolver True\n",
        "print(solu2.isValid(\"(]\"))  # Debería devolver False\n",
        "print(solu2.isValid(\"([)]\"))  # Debería devolver False\n",
        "print(solu2.isValid(\"{[]}\"))  # Debería devolver True\n",
        "# La clase Solution2 implementa el mismo método para verificar la validez de una cadena de paréntesis,\n",
        "\n",
        "#su complejidad temporal y espacial es la misma que la de la clase Solution, O(n) en el peor de los casos.\n",
        "#pero con una estructura de código ligeramente diferente."
      ],
      "metadata": {
        "colab": {
          "base_uri": "https://localhost:8080/"
        },
        "id": "wk0rMrZFxhgL",
        "outputId": "951cb4c0-f7a3-4fce-d2d1-8f7d7d10dfdc"
      },
      "execution_count": null,
      "outputs": [
        {
          "output_type": "stream",
          "name": "stdout",
          "text": [
            "True\n",
            "True\n",
            "False\n",
            "False\n",
            "True\n",
            "True\n",
            "True\n",
            "False\n",
            "False\n",
            "True\n"
          ]
        }
      ]
    },
    {
      "cell_type": "markdown",
      "source": [
        "# **IsValidSudoku**"
      ],
      "metadata": {
        "id": "IPrGRIlXxj5w"
      }
    },
    {
      "cell_type": "code",
      "source": [
        "class Solution:\n",
        "    def isValidSudoku(self, board: list[list[str]]) -> bool:\n",
        "        # Usamos conjuntos para llevar control de los valores vistos\n",
        "        filas = [set() for _ in range(9)]      # 9 conjuntos para filas\n",
        "        columnas = [set() for _ in range(9)]   # 9 conjuntos para columnas\n",
        "        cajas = [set() for _ in range(9)]      # 9 conjuntos para subcuadros 3x3\n",
        "\n",
        "        # Recorremos cada celda del tablero\n",
        "        for i in range(9):\n",
        "            for j in range(9):\n",
        "                valor = board[i][j]\n",
        "\n",
        "                # Saltamos celdas vacías\n",
        "                if valor == \".\":\n",
        "                    continue\n",
        "\n",
        "                # Índice de la subcuadro 3x3 correspondiente\n",
        "                caja_index = (i // 3) * 3 + (j // 3)\n",
        "\n",
        "                # Verificamos si el valor ya fue visto en la fila, columna o caja\n",
        "                if (valor in filas[i] or\n",
        "                    valor in columnas[j] or\n",
        "                    valor in cajas[caja_index]):\n",
        "                    return False  # Reglas violadas\n",
        "\n",
        "                # Registramos el valor en los conjuntos correspondientes\n",
        "                filas[i].add(valor)\n",
        "                columnas[j].add(valor)\n",
        "                cajas[caja_index].add(valor)\n",
        "\n",
        "        # Si terminamos sin conflictos, el tablero es válido\n",
        "        return True\n",
        "\n",
        "# Ejemplo de uso\n",
        "soluc = Solution()\n",
        "# Tablero de Sudoku de ejemplo\n",
        "tablero = [\n",
        "    [\"7\", \"3\", \".\", \".\", \"7\", \".\", \".\", \".\", \".\"],\n",
        "    [\"6\", \".\", \".\", \"1\", \"9\", \"5\", \".\", \".\", \".\"],\n",
        "    [\".\", \"9\", \"8\", \".\", \".\", \".\", \".\", \"6\", \".\"],\n",
        "    [\"8\", \".\", \".\", \".\", \"6\", \".\", \".\", \".\", \"3\"],\n",
        "    [\"4\", \".\", \"6\", \"8\", \".\", \"3\", \".\", \".\", \"1\"],\n",
        "    [\"7\", \".\", \".\", \".\", \"2\", \".\", \".\", \".\", \"6\"],\n",
        "    [\".\", \"6\", \".\", \".\", \".\", \".\", \"2\", \"8\", \".\"],\n",
        "    [\".\", \".\", \".\", \"4\", \"1\", \"9\", \".\", \".\", \"5\"],\n",
        "    [\".\", \".\", \".\", \".\", \"8\", \".\", \".\", \"7\", \"9\"]\n",
        "]\n",
        "print(soluc.isValidSudoku(tablero))  # Debería devolver True, ya que el tablero es válido\n",
        "#su complejidad temporal es O(1) (constante en tamaño), ya que el tablero siempre tiene 81 celdas.\n",
        "# y su complejidad espacial también es O(1) (constante en tamaño), ya que usamos un número fijo de conjuntos (9 filas, 9 columnas, 9 cajas).\n",
        "\n",
        "\n",
        "\n",
        "\n",
        "class Solution2:\n",
        "    def isValidSudoku(self, board: list[list[str]]) -> bool:\n",
        "        seen = set()  # Conjunto para registrar claves únicas\n",
        "\n",
        "        for i in range(9):\n",
        "            for j in range(9):\n",
        "                num = board[i][j]\n",
        "                if num == \".\":\n",
        "                    continue\n",
        "\n",
        "                # Creamos identificadores únicos para cada regla de Sudoku\n",
        "                row_key = f\"{num} in row {i}\"\n",
        "                col_key = f\"{num} in col {j}\"\n",
        "                box_key = f\"{num} in box {i // 3}-{j // 3}\"\n",
        "\n",
        "                # Si cualquiera de estas claves ya fue registrada, el tablero no es válido\n",
        "                if row_key in seen or col_key in seen or box_key in seen:\n",
        "                    return False\n",
        "\n",
        "                # Registramos las claves\n",
        "                seen.add(row_key)\n",
        "                seen.add(col_key)\n",
        "                seen.add(box_key)\n",
        "\n",
        "        return True\n",
        "\n",
        "\n",
        "# Ejemplo de uso\n",
        "soluc2 = Solution2()\n",
        "# Tablero de Sudoku de ejemplo\n",
        "tablero2 = [\n",
        "    [\"5\", \"3\", \".\", \".\", \"7\", \".\", \".\", \".\", \".\"],\n",
        "    [\"6\", \".\", \".\", \"1\", \"9\", \"5\", \".\", \".\", \".\"],\n",
        "    [\".\", \"9\", \"8\", \".\", \".\", \".\", \".\", \"6\", \".\"],\n",
        "    [\"8\", \".\", \".\", \".\", \"6\", \".\", \".\", \".\", \"3\"],\n",
        "    [\"4\", \".\", \"6\", \"8\", \".\", \"3\", \".\", \".\", \"1\"],\n",
        "    [\"7\", \".\", \".\", \".\", \"2\", \".\", \".\", \".\", \"6\"],\n",
        "    [\".\", \"6\", \".\", \".\", \".\", \".\", \"2\", \"8\", \".\"],\n",
        "    [\".\", \".\", \".\", \"4\", \"1\", \"9\", \".\", \".\", \"5\"],\n",
        "    [\".\", \".\", \".\", \".\", \"8\", \".\", \".\", \"7\", \"9\"]\n",
        "]\n",
        "print(soluc2.isValidSudoku(tablero2))\n",
        "\n",
        "#su complejidad temporal es O(1) (constante en tamaño), ya que el tablero siempre tiene 81 celdas.\n",
        "# y su complejidad espacial también es O(1) (constante en tamaño), ya que usamos un conjunto para registrar un número fijo de claves (hasta 27).\n"
      ],
      "metadata": {
        "colab": {
          "base_uri": "https://localhost:8080/"
        },
        "id": "oKehFuHuxpWi",
        "outputId": "51e0a465-c7f9-4fd8-eeee-b174fd2e89cf"
      },
      "execution_count": 2,
      "outputs": [
        {
          "output_type": "stream",
          "name": "stdout",
          "text": [
            "False\n",
            "True\n"
          ]
        }
      ]
    },
    {
      "cell_type": "markdown",
      "source": [
        "# **LengthOfLastWord**"
      ],
      "metadata": {
        "id": "XtZZqF4yx124"
      }
    },
    {
      "cell_type": "code",
      "source": [
        "class Solution:\n",
        "    def lengthOfLastWord(self, s: str) -> int:\n",
        "        # Elimina los espacios en blanco al final y al principio de la cadena\n",
        "        s = s.strip()\n",
        "\n",
        "        # Divide la cadena en palabras separadas por espacios\n",
        "        palabras = s.split()\n",
        "\n",
        "        # Devuelve la longitud de la última palabra\n",
        "        return len(palabras[-1])\n",
        "# Ejemplo de uso\n",
        "sol = Solution()\n",
        "# Cadena de ejemplo\n",
        "cadena = \"Hola mundo   \"\n",
        "print(sol.lengthOfLastWord(cadena))  # Debería devolver 5, ya que la última palabra es \"mundo\"\n",
        "\n",
        "#su complejidad de tiempo es O(n) donde n es la longitud de la cadena\n",
        "#su espacio es O(n) donde n es la longitud de la cadena debido a la creación de una lista de palabras\n",
        "\n",
        "class Solution2:\n",
        "    def lengthOfLastWord(self, s: str) -> int:\n",
        "        longitud = 0  # Contador de la longitud de la última palabra\n",
        "        i = len(s) - 1  # Empezamos desde el final de la cadena\n",
        "\n",
        "        # Paso 1: Saltar espacios al final de la cadena\n",
        "        while i >= 0 and s[i] == ' ':\n",
        "            i -= 1\n",
        "\n",
        "        # Paso 2: Contar los caracteres de la última palabra\n",
        "        while i >= 0 and s[i] != ' ':\n",
        "            longitud += 1\n",
        "            i -= 1\n",
        "\n",
        "        return longitud\n",
        "\n",
        "# Ejemplo de uso\n",
        "sol2 = Solution2()\n",
        "# Cadena de ejemplo\n",
        "cadena2 = \"Hola mundo   \"\n",
        "print(sol2.lengthOfLastWord(cadena2))  # Debería devolver 5, ya que la última palabra es \"mundo\"\n",
        "\n",
        "#su complejidad de tiempo es O(n) donde n es la longitud de la cadena\n",
        "#su espacio es O(1) ya que no se utiliza espacio adicional significativo"
      ],
      "metadata": {
        "colab": {
          "base_uri": "https://localhost:8080/"
        },
        "id": "REJ7ewpox5hm",
        "outputId": "b3aca396-0044-4079-c5ae-7b53f54c61f3"
      },
      "execution_count": null,
      "outputs": [
        {
          "output_type": "stream",
          "name": "stdout",
          "text": [
            "5\n",
            "5\n"
          ]
        }
      ]
    },
    {
      "cell_type": "markdown",
      "source": [
        "# **LongestCommonPrefix**"
      ],
      "metadata": {
        "id": "5g3HMdlox9_A"
      }
    },
    {
      "cell_type": "code",
      "source": [
        "class Solution:\n",
        "    def longestCommonPrefix(self, strs: list[str]) -> str:\n",
        "        # Si la lista está vacía, no hay prefijo común\n",
        "        if not strs:\n",
        "            return \"\"\n",
        "\n",
        "        # Suponemos que el primer string es el prefijo inicial\n",
        "        prefijo = strs[0]\n",
        "\n",
        "        # Comparamos el prefijo con cada palabra en la lista\n",
        "        for palabra in strs[1:]:\n",
        "            i = 0  # Índice para recorrer caracteres\n",
        "\n",
        "            # Comparamos carácter por carácter entre prefijo y palabra\n",
        "            while i < len(prefijo) and i < len(palabra) and prefijo[i] == palabra[i]:\n",
        "                i += 1  # Avanza mientras los caracteres coincidan\n",
        "\n",
        "            # Reducimos el prefijo hasta la parte común\n",
        "            prefijo = prefijo[:i]\n",
        "\n",
        "            # Si en algún momento el prefijo queda vacío, no hay común\n",
        "            if not prefijo:\n",
        "                return \"\"\n",
        "\n",
        "        return prefijo  # Devuelve el prefijo común más largo encontrado\n",
        "\n",
        "# Ejemplo de uso\n",
        "solu = Solution()\n",
        "print(solu.longestCommonPrefix([\"flower\", \"flow\", \"flight\"]))  # Debería devolver \"fl\"\n",
        "# Ejemplo de uso con una lista sin prefijo común\n",
        "print(solu.longestCommonPrefix([\"dog\", \"racecar\", \"car\"]))  # Debería devolver \"\"\n",
        "# Ejemplo de uso con una lista vacía\n",
        "print(solu.longestCommonPrefix([]))  # Debería devolver \"\"\n",
        "# Ejemplo de uso con un solo string\n",
        "print(solu.longestCommonPrefix([\"single\"]))  # Debería devolver \"single\"\n",
        "\n",
        "#su complejidad temporal es O(n * m), donde n es el número de strings y m es la longitud del prefijo común más largo.\n",
        "#y su complejidad espacial es O(1) ya que no usamos espacio adicional significativo.\n",
        "\n",
        "class Solution2:\n",
        "    def longestCommonPrefix(self, strs: list[str]) -> str:\n",
        "        if not strs:\n",
        "            return \"\"\n",
        "\n",
        "        # Ordenamos la lista de strings\n",
        "        strs.sort()\n",
        "        first = strs[0]  # Primer string después de ordenar\n",
        "        last = strs[-1]  # Último string después de ordenar\n",
        "\n",
        "        # Comparamos el primer y último string para encontrar el prefijo común\n",
        "        i = 0\n",
        "        while i < len(first) and i < len(last) and first[i] == last[i]:\n",
        "            i += 1\n",
        "\n",
        "        return first[:i]  # Devuelve el prefijo común más largo encontrado\n",
        "\n",
        "# Ejemplo de uso\n",
        "solu2 = Solution2()\n",
        "print(solu2.longestCommonPrefix([\"flower\", \"flow\", \"flight\"]))  # Debería devolver \"fl\"\n",
        "# Ejemplo de uso con una lista sin prefijo común\n",
        "print(solu2.longestCommonPrefix([\"dog\", \"racecar\", \"car\"]))  # Debería devolver \"\"\n",
        "# Ejemplo de uso con una lista vacía\n",
        "print(solu2.longestCommonPrefix([]))  # Debería devolver \"\"\n",
        "# Ejemplo de uso con un solo string\n",
        "print(solu2.longestCommonPrefix([\"single\"]))  # Debería devolver \"single\"\n",
        "\n",
        "# Su complejidad temporal es O(n log n) debido a la ordenación de la lista, donde n es el número de strings.\n",
        "# Su complejidad espacial es O(1) ya que no usamos espacio adicional significativo."
      ],
      "metadata": {
        "colab": {
          "base_uri": "https://localhost:8080/"
        },
        "id": "_PqEqWYVyA4i",
        "outputId": "081ffd1b-2d3d-41ec-d840-a94696679bec"
      },
      "execution_count": null,
      "outputs": [
        {
          "output_type": "stream",
          "name": "stdout",
          "text": [
            "fl\n",
            "\n",
            "\n",
            "single\n",
            "fl\n",
            "\n",
            "\n",
            "single\n"
          ]
        }
      ]
    },
    {
      "cell_type": "markdown",
      "source": [
        "# **LongestPalindrome**"
      ],
      "metadata": {
        "id": "067K2wo_yDMC"
      }
    },
    {
      "cell_type": "code",
      "source": [
        "class Solution1:\n",
        "    def longestPalindrome(self, s: str) -> str:\n",
        "        # Función auxiliar para verificar si una subcadena es palíndroma\n",
        "        def es_palindromo(sub: str) -> bool:\n",
        "            return sub == sub[::-1]  # Compara la subcadena con su reverso\n",
        "\n",
        "        n = len(s)  # Longitud de la cadena de entrada\n",
        "        max_pal = \"\"  # Almacena la subcadena palindrómica más larga encontrada\n",
        "\n",
        "        # Recorremos todas las posibles subcadenas\n",
        "        for i in range(n):\n",
        "            for j in range(i, n):\n",
        "                sub = s[i:j+1]  # Extrae la subcadena desde i hasta j (inclusive)\n",
        "                if es_palindromo(sub) and len(sub) > len(max_pal):\n",
        "                    max_pal = sub  # Actualiza si la subcadena es más larga\n",
        "\n",
        "        return max_pal  # Devuelve la subcadena palindrómica más larga encontrada\n",
        "\n",
        "solu1 = Solution1()\n",
        "print(solu1.longestPalindrome(\"babad\"))  # Ejemplo de uso, debería devolver \"bab\" o \"aba\"\n",
        "#su complejidad temporal es O(n^3) y espacial O(1), donde n es la longitud de la cadena de entrada.\n",
        "#y la complejidad espacial es O(1) porque no se utiliza espacio adicional significativo.\n",
        "\n",
        "class Solution2:\n",
        "    def longestPalindrome(self, s: str) -> str:\n",
        "        n = len(s)\n",
        "        if n == 0:\n",
        "            return \"\"\n",
        "\n",
        "        start, end = 0, 0  # Variables para almacenar el inicio y fin del palíndromo más largo\n",
        "\n",
        "        for i in range(n):\n",
        "            len1 = self.expand_around_center(s, i, i)  # Palíndromo de longitud impar\n",
        "            len2 = self.expand_around_center(s, i, i + 1)  # Palíndromo de longitud par\n",
        "            max_len = max(len1, len2)\n",
        "\n",
        "            if max_len > end - start:\n",
        "                start = i - (max_len - 1) // 2\n",
        "                end = i + max_len // 2\n",
        "\n",
        "        return s[start:end + 1]  # Devuelve la subcadena palindrómica más larga encontrada\n",
        "\n",
        "    def expand_around_center(self, s: str, left: int, right: int) -> int:\n",
        "        while left >= 0 and right < len(s) and s[left] == s[right]:\n",
        "            left -= 1\n",
        "            right += 1\n",
        "        return right - left - 1  # Longitud del palíndromo encontrado\n",
        "\n",
        "\n",
        "solu2 = Solution2()\n",
        "print(solu2.longestPalindrome(\"babad\"))  # Ejemplo de uso, debería devolver \"bab\" o \"aba\"\n",
        "# La segunda solución es más eficiente que la primera, ya que evita la verificación de todas las subcadenas\n",
        "# y utiliza una técnica de expansión alrededor del centro para encontrar palíndromos.\n",
        "# Su complejidad temporal es O(n^2) y espacial O(1), donde n es la longitud de la cadena de entrada.\n",
        "# La complejidad temporal es O(n^2) porque, en el peor de los casos, se expande alrededor de cada carácter de la cadena.\n"
      ],
      "metadata": {
        "colab": {
          "base_uri": "https://localhost:8080/"
        },
        "id": "XFvQy_MgyHZj",
        "outputId": "c5213750-797f-4393-cc43-2de6062d2273"
      },
      "execution_count": null,
      "outputs": [
        {
          "output_type": "stream",
          "name": "stdout",
          "text": [
            "bab\n",
            "aba\n"
          ]
        }
      ]
    },
    {
      "cell_type": "markdown",
      "source": [
        "# **MaxSubArray**"
      ],
      "metadata": {
        "id": "71ZmozGHyKhq"
      }
    },
    {
      "cell_type": "code",
      "source": [
        "class Solution:\n",
        "    def maxSubArray(self, nums: list[int]) -> int:\n",
        "        # Inicializamos la suma máxima actual y global con el primer número\n",
        "        max_actual = max_global = nums[0]\n",
        "\n",
        "        # Recorremos el arreglo desde el segundo elemento\n",
        "        for i in range(1, len(nums)):\n",
        "            num = nums[i]\n",
        "\n",
        "            # Elegimos entre: continuar el subarreglo actual o empezar uno nuevo\n",
        "            max_actual = max(num, max_actual + num)\n",
        "\n",
        "            # Actualizamos el máximo global si es necesario\n",
        "            if max_actual > max_global:\n",
        "                max_global = max_actual\n",
        "\n",
        "        # Al final, devolvemos la suma máxima encontrada\n",
        "        return max_global\n",
        "# Ejemplo de uso\n",
        "sol = Solution()\n",
        "# Lista de números de ejemplo\n",
        "nums = [-2, 1, -3, 4, -1, 2, 1, -5, 4]\n",
        "print(sol.maxSubArray(nums))  # Debería devolver 6, ya que la sublista [4, -1, 2, 1] tiene la suma máxima\n",
        "#su complejidad temporal es O(n) y espacial O(1), donde n es la longitud del arreglo de entrada.\n",
        "# La complejidad temporal es O(n) porque recorremos el arreglo una sola vez.\n",
        "\n",
        "class Solution2:\n",
        "    def maxSubArray(self, nums: list[int]) -> int:\n",
        "\n",
        "        # Función auxiliar recursiva que busca el máximo subarreglo entre índices left y right\n",
        "        def helper(left: int, right: int) -> int:\n",
        "            # Caso base: si solo hay un elemento, ese es el máximo subarreglo\n",
        "            if left == right:\n",
        "                return nums[left]\n",
        "\n",
        "            # Encuentra el punto medio para dividir el arreglo\n",
        "            mid = (left + right) // 2\n",
        "\n",
        "            # Llamada recursiva para la mitad izquierda\n",
        "            left_sum = helper(left, mid)\n",
        "            # Llamada recursiva para la mitad derecha\n",
        "            right_sum = helper(mid + 1, right)\n",
        "\n",
        "            # Calcula el máximo subarreglo que cruza el punto medio:\n",
        "            # Empieza desde el medio hacia la izquierda acumulando la suma máxima\n",
        "            left_cross_sum = float('-inf')  # Inicializa con menos infinito\n",
        "            temp_sum = 0  # Suma temporal\n",
        "            for i in range(mid, left - 1, -1):\n",
        "                temp_sum += nums[i]  # Suma el elemento actual\n",
        "                left_cross_sum = max(left_cross_sum, temp_sum)  # Actualiza la suma máxima izquierda\n",
        "\n",
        "            # Empieza desde el medio + 1 hacia la derecha acumulando la suma máxima\n",
        "            right_cross_sum = float('-inf')  # Inicializa con menos infinito\n",
        "            temp_sum = 0  # Resetea suma temporal\n",
        "            for i in range(mid + 1, right + 1):\n",
        "                temp_sum += nums[i]  # Suma el elemento actual\n",
        "                right_cross_sum = max(right_cross_sum, temp_sum)  # Actualiza la suma máxima derecha\n",
        "\n",
        "            # La suma máxima que cruza el punto medio es la suma máxima izquierda + derecha\n",
        "            cross_sum = left_cross_sum + right_cross_sum\n",
        "\n",
        "            # Devuelve el máximo entre las tres opciones:\n",
        "            # subarreglo en la izquierda, derecha o que cruza la mitad\n",
        "            return max(left_sum, right_sum, cross_sum)\n",
        "\n",
        "        # Llamada inicial para todo el arreglo, desde índice 0 hasta len(nums)-1\n",
        "        return helper(0, len(nums) - 1)\n",
        "\n",
        "# Ejemplo de uso\n",
        "sol2 = Solution2()\n",
        "nums = [-2, 1, -3, 4, -1, 2, 1, -5, 4]\n",
        "print(sol2.maxSubArray(nums))  # Debería devolver 6\n",
        "# Su complejidad temporal es O(n log n) y espacial O(log n) debido a la pila de llamadas recursivas.\n",
        "# La complejidad temporal es O(n log n) porque divide el problema en mitades y resuelve cada mitad recursivamente.\n",
        "# La complejidad espacial es O(log n) debido a la profundidad de la pila de llamadas recursivas."
      ],
      "metadata": {
        "colab": {
          "base_uri": "https://localhost:8080/"
        },
        "id": "q-OSPzqUyOGL",
        "outputId": "fea643ac-0e62-4f62-b521-2f2112ff0cba"
      },
      "execution_count": null,
      "outputs": [
        {
          "output_type": "stream",
          "name": "stdout",
          "text": [
            "6\n",
            "6\n"
          ]
        }
      ]
    },
    {
      "cell_type": "markdown",
      "source": [
        "\n",
        "# **NumberRoman**"
      ],
      "metadata": {
        "id": "3FG8iB6myPmG"
      }
    },
    {
      "cell_type": "code",
      "source": [
        "class Solution:\n",
        "    def intToRoman(self, num: int) -> str:\n",
        "        # Lista de tuplas con valores decimales y sus símbolos romanos, en orden descendente\n",
        "        val_rom = [\n",
        "            (1000, \"M\"), (900, \"CM\"), (500, \"D\"), (400, \"CD\"),\n",
        "            (100, \"C\"), (90, \"XC\"), (50, \"L\"), (40, \"XL\"),\n",
        "            (10, \"X\"), (9, \"IX\"), (5, \"V\"), (4, \"IV\"), (1, \"I\")\n",
        "        ]\n",
        "\n",
        "        res = \"\"  # Cadena para almacenar el número romano resultante\n",
        "\n",
        "        # Recorremos cada par (valor, símbolo) en la lista\n",
        "        for val, rom in val_rom:\n",
        "            # Mientras el número sea mayor o igual al valor actual\n",
        "            while num >= val:\n",
        "                res += rom     # Añade el símbolo romano al resultado\n",
        "                num -= val     # Resta el valor correspondiente del número original\n",
        "\n",
        "        return res  # Devuelve la representación romana completa\n",
        "\n",
        "solu = Solution()\n",
        "print(solu.intToRoman(1994))  # Ejemplo de uso, debería devolver \"MCMXCIV\"\n",
        "# La solución utiliza una lista de tuplas para mapear valores decimales a sus equivalentes romanos,\n",
        "#su complejidad temporal es O(1) y espacial O(1), ya que el número de símbolos romanos es fijo y no depende del tamaño de la entrada.\n",
        "# La complejidad temporal es O(1) porque el número de símbolos romanos es constante y no depende del valor de entrada.\n",
        "\n",
        "class Solution2:\n",
        "    def romanToInt(self, s: str) -> int:\n",
        "        # Diccionario que mapea símbolos romanos a sus valores enteros\n",
        "        rom_val = {\n",
        "            \"I\": 1, \"V\": 5, \"X\": 10, \"L\": 50,\n",
        "            \"C\": 100, \"D\": 500, \"M\": 1000\n",
        "        }\n",
        "\n",
        "        total = 0  # Variable para almacenar el valor total del número romano\n",
        "        prev_value = 0  # Valor del símbolo romano anterior\n",
        "\n",
        "        # Recorremos cada símbolo en la cadena de derecha a izquierda\n",
        "        for char in reversed(s):\n",
        "            value = rom_val[char]  # Obtenemos el valor del símbolo actual\n",
        "\n",
        "            # Si el valor actual es menor que el valor anterior, lo restamos\n",
        "            if value < prev_value:\n",
        "                total -= value\n",
        "            else:\n",
        "                total += value  # De lo contrario, lo sumamos\n",
        "\n",
        "            prev_value = value  # Actualizamos el valor anterior\n",
        "\n",
        "        return total  # Devuelve el valor entero resultante\n",
        "\n",
        "solu2 = Solution2()\n",
        "print(solu2.romanToInt(\"MCMXCIV\"))  # Ejemplo de uso, debería devolver 1994\n",
        "# La clase Solution convierte un número entero a su representación en números romanos,\n",
        "# mientras que la clase Solution2 convierte una cadena de números romanos a su valor entero.\n",
        "#su complejidad temporal es O(n) y espacial O(1), donde n es la longitud de la cadena de entrada.\n",
        "# La complejidad temporal es O(n) porque recorremos la cadena de números romanos una vez."
      ],
      "metadata": {
        "colab": {
          "base_uri": "https://localhost:8080/"
        },
        "id": "s8LM_0OKyXzX",
        "outputId": "ca56f0e7-717b-4d6e-cb8d-a6fd0cc3e867"
      },
      "execution_count": null,
      "outputs": [
        {
          "output_type": "stream",
          "name": "stdout",
          "text": [
            "MCMXCIV\n",
            "1994\n"
          ]
        }
      ]
    },
    {
      "cell_type": "markdown",
      "source": [],
      "metadata": {
        "id": "kZ8V6BsRj6Ka"
      }
    },
    {
      "cell_type": "markdown",
      "source": [],
      "metadata": {
        "id": "XnfmkwAGjcIa"
      }
    },
    {
      "cell_type": "code",
      "source": [],
      "metadata": {
        "id": "CnwAvyy0jymV"
      },
      "execution_count": null,
      "outputs": []
    },
    {
      "cell_type": "code",
      "source": [],
      "metadata": {
        "id": "G8RB-KIGjyf2"
      },
      "execution_count": null,
      "outputs": []
    },
    {
      "cell_type": "markdown",
      "source": [
        "# **ThreeSumClosest**"
      ],
      "metadata": {
        "id": "qx_UXz-zyaWH"
      }
    },
    {
      "cell_type": "code",
      "source": [
        "class Solution:\n",
        "    def threeSumClosest(self, nums: list[int], target: int) -> int:\n",
        "        # Ordenamos el arreglo para usar la técnica de dos punteros\n",
        "        nums.sort()\n",
        "\n",
        "        # Inicializamos la mejor suma con una suma arbitraria de los primeros 3 elementos\n",
        "        mejor_suma = nums[0] + nums[1] + nums[2]\n",
        "\n",
        "        # Recorremos el arreglo, fijando un elemento y usando dos punteros para los otros dos\n",
        "        for i in range(len(nums) - 2):\n",
        "            # Punteros izquierdo y derecho\n",
        "            izq = i + 1\n",
        "            der = len(nums) - 1\n",
        "\n",
        "            # Mientras no se crucen los punteros\n",
        "            while izq < der:\n",
        "                suma_actual = nums[i] + nums[izq] + nums[der]  # Suma de la terna actual\n",
        "\n",
        "                # Si esta suma está más cerca del target que la mejor hasta ahora, actualiza\n",
        "                if abs(suma_actual - target) < abs(mejor_suma - target):\n",
        "                    mejor_suma = suma_actual\n",
        "\n",
        "                # Si encontramos una suma exactamente igual al target, ya no hay mejor opción\n",
        "                if suma_actual == target:\n",
        "                    return target\n",
        "                elif suma_actual < target:\n",
        "                    izq += 1  # Necesitamos una suma más grande, movemos a la derecha\n",
        "                else:\n",
        "                    der -= 1  # Necesitamos una suma más pequeña, movemos a la izquierda\n",
        "\n",
        "        return mejor_suma  # Retorna la suma más cercana al target encontrada\n",
        "\n",
        "# Ejemplo de uso\n",
        "solu = Solution()\n",
        "print(solu.threeSumClosest([-1, 2, 1, -4], 1))  # Debería devolver 2\n",
        "#su complejidad temporal es O(n^2) y espacial O(1), donde n es la longitud del arreglo de entrada.\n",
        "# La complejidad temporal es O(n^2) porque recorremos el arreglo con un bucle anidado,\n",
        "\n",
        "class Solution2:\n",
        "    def threeSumClosest(self, nums: list[int], target: int) -> int:\n",
        "        nums.sort()  # Ordenamos el arreglo\n",
        "        mejor_suma = float('inf')  # Inicializamos con infinito\n",
        "\n",
        "        for i in range(len(nums) - 2):\n",
        "            izq, der = i + 1, len(nums) - 1  # Punteros izquierdo y derecho\n",
        "\n",
        "            while izq < der:\n",
        "                suma_actual = nums[i] + nums[izq] + nums[der]\n",
        "\n",
        "                # Actualizamos la mejor suma si es más cercana al target\n",
        "                if abs(suma_actual - target) < abs(mejor_suma - target):\n",
        "                    mejor_suma = suma_actual\n",
        "\n",
        "                if suma_actual < target:\n",
        "                    izq += 1  # Necesitamos una suma mayor\n",
        "                elif suma_actual > target:\n",
        "                    der -= 1  # Necesitamos una suma menor\n",
        "                else:\n",
        "                    return target  # Si encontramos la suma exacta\n",
        "\n",
        "        return mejor_suma  # Retorna la mejor suma encontrada\n",
        "\n",
        "# Ejemplo de uso\n",
        "solu2 = Solution2()\n",
        "print(solu2.threeSumClosest([-1, 2, 1, -4], 1))  # Debería devolver 2\n",
        "# su complejidad espacial es O(1) porque no utilizamos espacio adicional significativo.\n",
        "# La complejidad temporal es O(n^2) porque recorremos el arreglo con un bucle anidado,"
      ],
      "metadata": {
        "colab": {
          "base_uri": "https://localhost:8080/"
        },
        "id": "j9cumrJqjKfl",
        "outputId": "339b5b82-09b6-4c54-bdc4-d56510f88291"
      },
      "execution_count": null,
      "outputs": [
        {
          "output_type": "stream",
          "name": "stdout",
          "text": [
            "2\n",
            "2\n"
          ]
        }
      ]
    },
    {
      "cell_type": "markdown",
      "source": [],
      "metadata": {
        "id": "0ZzgJW-6jQbN"
      }
    },
    {
      "cell_type": "code",
      "source": [],
      "metadata": {
        "id": "bV4scS1Qyd1D"
      },
      "execution_count": null,
      "outputs": []
    }
  ]
}